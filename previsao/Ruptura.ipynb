{
 "cells": [
  {
   "cell_type": "markdown",
   "id": "behind-proposition",
   "metadata": {
    "id": "behind-proposition"
   },
   "source": [
    "# Ruptura\n",
    "Processamento e correção dos dados de estoque das lojas, e obtenção da quantidade de venda perdida por ruptura de estoque.\n",
    "\n",
    "### Correção dos dados das lojas"
   ]
  },
  {
   "cell_type": "code",
   "execution_count": 1,
   "id": "pressing-burning",
   "metadata": {
    "id": "pressing-burning"
   },
   "outputs": [],
   "source": [
    "import pandas as pd\n",
    "import numpy as np\n",
    "import json\n",
    "from datetime import timedelta\n",
    "\n",
    "def read_data(store_name):\n",
    "    try:\n",
    "        #stock_df = pd.read_csv('storage_data/' + store_name + '.csv', index_col=0)\n",
    "        #sales_df = pd.read_csv('data/' + store_name + '.csv', index_col=0)\n",
    "        stock_df = pd.read_csv('/content/drive/MyDrive/Vendas/' + store_name + '.csv', index_col=0)\n",
    "        sales_df = pd.read_csv('/content/drive/MyDrive/Saldos Processados/' + store_name + '.csv', index_col=0)\n",
    "\n",
    "        stock_df.index = pd.to_datetime(stock_df.index)\n",
    "        sales_df.index = pd.to_datetime(sales_df.index)\n",
    "    \n",
    "        return stock_df, sales_df\n",
    "    except:\n",
    "        print('Error while opening %s data' % (store_name))\n",
    "        return None, None"
   ]
  },
  {
   "cell_type": "code",
   "execution_count": null,
   "id": "3o5KY8yIUzQ-",
   "metadata": {
    "colab": {
     "base_uri": "https://localhost:8080/"
    },
    "executionInfo": {
     "elapsed": 23104,
     "status": "ok",
     "timestamp": 1631304523744,
     "user": {
      "displayName": "David Galvao",
      "photoUrl": "https://lh3.googleusercontent.com/a/default-user=s64",
      "userId": "00430482932793032747"
     },
     "user_tz": 180
    },
    "id": "3o5KY8yIUzQ-",
    "outputId": "8994432c-5b12-4c17-e779-e47b94a05570"
   },
   "outputs": [
    {
     "name": "stdout",
     "output_type": "stream",
     "text": [
      "Mounted at /content/drive\n"
     ]
    }
   ],
   "source": [
    "# Coisas do colab\n",
    "from google.colab import drive\n",
    "drive.mount('/content/drive')"
   ]
  },
  {
   "cell_type": "code",
   "execution_count": null,
   "id": "aggregate-instrument",
   "metadata": {
    "id": "aggregate-instrument"
   },
   "outputs": [],
   "source": [
    "def set_nan_values(stock_df):  \n",
    "    # Considera-se como uma data em que não há contagem a data onde o estoque de todos os produtos é 0\n",
    "    stock_df[stock_df.index.day_of_week == 6] = np.nan # Não há contagem no domingo\n",
    "    stock_df[stock_df.sum(axis=1) == 0] = np.nan # Pegar as outras datas em que não houveram contagem\n",
    "    # Desconsiderar as datas em que não possuimos dados\n",
    "    first_date_w_data = stock_df[stock_df.sum(axis=1) > 0].index[0]\n",
    "    stock_df[:first_date_w_data] = 0 \n",
    "    \n",
    "    return stock_df"
   ]
  },
  {
   "cell_type": "code",
   "execution_count": null,
   "id": "agricultural-exclusive",
   "metadata": {
    "id": "agricultural-exclusive"
   },
   "outputs": [],
   "source": [
    "def get_missing_dates(stock_df):\n",
    "    na_rows = stock_df.isna().any(axis=1)\n",
    "    missing_dates = na_rows[na_rows == True].index\n",
    "    \n",
    "    return missing_dates"
   ]
  },
  {
   "cell_type": "code",
   "execution_count": null,
   "id": "through-closer",
   "metadata": {
    "id": "through-closer"
   },
   "outputs": [],
   "source": [
    "def fix_stock(stock_df, sales_df):\n",
    "    stock_df = set_nan_values(stock_df)\n",
    "    missing_dates = get_missing_dates(stock_df)\n",
    "    \n",
    "    for date in missing_dates:\n",
    "        stock_df.loc[date - timedelta(days=1) : date] = stock_df.loc[date - timedelta(days=1) : date].fillna(method='ffill')\n",
    "        stock_df.loc[date] -= sales_df.loc[date - timedelta(days=1)]\n",
    "    \n",
    "    # Corrigir estoque negativo\n",
    "    return stock_df.applymap(lambda x : x if x > 0 else 0)"
   ]
  },
  {
   "cell_type": "code",
   "execution_count": null,
   "id": "nutritional-spank",
   "metadata": {
    "id": "nutritional-spank"
   },
   "outputs": [],
   "source": [
    "stores = ['Ico', 'Jacobina', 'Lagoa', 'Campina Grande I', 'Bayeux',\n",
    "       'Esperanca', 'Irece I', 'Mangabeira Shopping', 'Patos I', 'Matriz',\n",
    "       'Patos II', 'Campina Grande III', 'Itambe', 'Campina Grande II',\n",
    "       'Mangabeira', 'Aristides Lobo', 'Sape', 'Sta. Rita', 'Iguatu',\n",
    "       'Pombal', 'Itaporanga', 'Mamanguape', 'Sousa I', 'Timbauba',\n",
    "       'Joao Dourado', 'Goiana', 'Cuite', 'Queimadas', 'Irece II',\n",
    "       'Solanea', 'Guarabira', 'Cabedelo', 'Alagoa Grande', 'AREIA',\n",
    "       'Bancarios', 'Sousa II', 'Barao', 'Soledade', 'Guarabira II',\n",
    "       'Goiana 2', 'Geisel', 'Picui', 'Alhandra', 'Itabaiana',\n",
    "       'Lagoa Seca', 'Campina Grande IV', 'Monteiro', 'Patos III',\n",
    "       'Pianco', 'Sto. Elias', 'Monteiro 2', 'Caruaru',\n",
    "       'Manaira', 'CABEDELO BR', 'Patos IV']"
   ]
  },
  {
   "cell_type": "code",
   "execution_count": null,
   "id": "postal-process",
   "metadata": {
    "id": "postal-process",
    "scrolled": true
   },
   "outputs": [],
   "source": [
    "i = 0\n",
    "\n",
    "for store in stores:\n",
    "    i += 1\n",
    "    \n",
    "    print('(%d/%d)' % (i, len(stores)))\n",
    "    print('Reading %s data' % (store))\n",
    "    stock_df, sales_df = read_data(store)\n",
    "    before = stock_df.sum(axis=1)\n",
    "    \n",
    "    print('Fixing %s data' % (store))\n",
    "    stock_df = fix_stock(stock_df, sales_df)\n",
    "    \n",
    "    print('Saving fixed %s data' % (store))\n",
    "    stock_df.to_csv('storage_data/' + store + '.csv')"
   ]
  },
  {
   "cell_type": "code",
   "execution_count": null,
   "id": "extra-footage",
   "metadata": {
    "id": "extra-footage",
    "scrolled": true
   },
   "outputs": [],
   "source": [
    "def get_sales_loss(store):\n",
    "    stock_df, sales_df = read_data(store)\n",
    "    loss_df = sales_df.copy(deep=True)\n",
    "    #i = 0\n",
    "    for product in sales_df.columns:\n",
    "        #i += 1\n",
    "        #if i % 100 == 0:\n",
    "        #    print('(%d/%d)' % (i, len(sales_df.columns)))\n",
    "        if sales_df[product].sum() == 0: # Tem caso onde o produto não vendeu na loja\n",
    "            continue\n",
    "\n",
    "        rolling = sales_df[product].rolling(window=7).mean().fillna(0)\n",
    "        rolling[:'2019-01-01'] = 0 # Não temos dados de estoque de 2019 para trás\n",
    "        loss_df[product] = [np.round(average - sales) if stock == 0 else 0 for (sales, stock, average) in zip(sales_df[product], stock_df[product], rolling)]\n",
    "        loss_df[product] = loss_df[product].apply(lambda x : x if x > 0 else 0)\n",
    "\n",
    "    return loss_df"
   ]
  },
  {
   "cell_type": "code",
   "execution_count": null,
   "id": "respected-ordinary",
   "metadata": {
    "id": "respected-ordinary"
   },
   "outputs": [],
   "source": [
    "stock_df, sales_df = read_data(stores[0])\n",
    "all_loss = stock_df.copy(deep=True)\n",
    "\n",
    "for col in all_loss.columns:\n",
    "    all_loss[col] = 0"
   ]
  },
  {
   "cell_type": "code",
   "execution_count": null,
   "id": "normal-indian",
   "metadata": {
    "colab": {
     "background_save": true,
     "base_uri": "https://localhost:8080/"
    },
    "id": "normal-indian",
    "outputId": "9fb326a2-9798-4075-e093-14fb80e8072d"
   },
   "outputs": [
    {
     "name": "stdout",
     "output_type": "stream",
     "text": [
      "(1/55)\n",
      "Getting sales loss of Ico\n",
      "Adding Ico loss to general loss dataframe\n",
      "Saving Ico sales loss\n",
      "(2/55)\n",
      "Getting sales loss of Jacobina\n",
      "Adding Jacobina loss to general loss dataframe\n",
      "Saving Jacobina sales loss\n",
      "(3/55)\n",
      "Getting sales loss of Lagoa\n",
      "Adding Lagoa loss to general loss dataframe\n",
      "Saving Lagoa sales loss\n",
      "(4/55)\n",
      "Getting sales loss of Campina Grande I\n",
      "Adding Campina Grande I loss to general loss dataframe\n",
      "Saving Campina Grande I sales loss\n",
      "(5/55)\n",
      "Getting sales loss of Bayeux\n",
      "Adding Bayeux loss to general loss dataframe\n",
      "Saving Bayeux sales loss\n",
      "(6/55)\n",
      "Getting sales loss of Esperanca\n",
      "Adding Esperanca loss to general loss dataframe\n",
      "Saving Esperanca sales loss\n",
      "(7/55)\n",
      "Getting sales loss of Irece I\n",
      "Adding Irece I loss to general loss dataframe\n",
      "Saving Irece I sales loss\n",
      "(8/55)\n",
      "Getting sales loss of Mangabeira Shopping\n",
      "Adding Mangabeira Shopping loss to general loss dataframe\n",
      "Saving Mangabeira Shopping sales loss\n",
      "(9/55)\n",
      "Getting sales loss of Patos I\n",
      "Adding Patos I loss to general loss dataframe\n",
      "Saving Patos I sales loss\n",
      "(10/55)\n",
      "Getting sales loss of Matriz\n",
      "Adding Matriz loss to general loss dataframe\n",
      "Saving Matriz sales loss\n",
      "(11/55)\n",
      "Getting sales loss of Patos II\n",
      "Adding Patos II loss to general loss dataframe\n",
      "Saving Patos II sales loss\n",
      "(12/55)\n",
      "Getting sales loss of Campina Grande III\n",
      "Adding Campina Grande III loss to general loss dataframe\n",
      "Saving Campina Grande III sales loss\n",
      "(13/55)\n",
      "Getting sales loss of Itambe\n",
      "Adding Itambe loss to general loss dataframe\n",
      "Saving Itambe sales loss\n",
      "(14/55)\n",
      "Getting sales loss of Campina Grande II\n",
      "Adding Campina Grande II loss to general loss dataframe\n",
      "Saving Campina Grande II sales loss\n",
      "(15/55)\n",
      "Getting sales loss of Mangabeira\n",
      "Adding Mangabeira loss to general loss dataframe\n",
      "Saving Mangabeira sales loss\n",
      "(16/55)\n",
      "Getting sales loss of Aristides Lobo\n",
      "Adding Aristides Lobo loss to general loss dataframe\n",
      "Saving Aristides Lobo sales loss\n",
      "(17/55)\n",
      "Getting sales loss of Sape\n",
      "Adding Sape loss to general loss dataframe\n",
      "Saving Sape sales loss\n",
      "(18/55)\n",
      "Getting sales loss of Sta. Rita\n",
      "Adding Sta. Rita loss to general loss dataframe\n",
      "Saving Sta. Rita sales loss\n",
      "(19/55)\n",
      "Getting sales loss of Iguatu\n",
      "Adding Iguatu loss to general loss dataframe\n",
      "Saving Iguatu sales loss\n",
      "(20/55)\n",
      "Getting sales loss of Pombal\n",
      "Adding Pombal loss to general loss dataframe\n",
      "Saving Pombal sales loss\n",
      "(21/55)\n",
      "Getting sales loss of Itaporanga\n",
      "Adding Itaporanga loss to general loss dataframe\n",
      "Saving Itaporanga sales loss\n",
      "(22/55)\n",
      "Getting sales loss of Mamanguape\n",
      "Adding Mamanguape loss to general loss dataframe\n",
      "Saving Mamanguape sales loss\n",
      "(23/55)\n",
      "Getting sales loss of Sousa I\n",
      "Adding Sousa I loss to general loss dataframe\n",
      "Saving Sousa I sales loss\n",
      "(24/55)\n",
      "Getting sales loss of Timbauba\n",
      "Adding Timbauba loss to general loss dataframe\n",
      "Saving Timbauba sales loss\n",
      "(25/55)\n",
      "Getting sales loss of Joao Dourado\n",
      "Adding Joao Dourado loss to general loss dataframe\n",
      "Saving Joao Dourado sales loss\n",
      "(26/55)\n",
      "Getting sales loss of Goiana\n",
      "Adding Goiana loss to general loss dataframe\n",
      "Saving Goiana sales loss\n",
      "(27/55)\n",
      "Getting sales loss of Cuite\n",
      "Adding Cuite loss to general loss dataframe\n",
      "Saving Cuite sales loss\n",
      "(28/55)\n",
      "Getting sales loss of Queimadas\n",
      "Adding Queimadas loss to general loss dataframe\n",
      "Saving Queimadas sales loss\n",
      "(29/55)\n",
      "Getting sales loss of Irece II\n",
      "Adding Irece II loss to general loss dataframe\n",
      "Saving Irece II sales loss\n",
      "(30/55)\n",
      "Getting sales loss of Solanea\n",
      "Adding Solanea loss to general loss dataframe\n",
      "Saving Solanea sales loss\n",
      "(31/55)\n",
      "Getting sales loss of Guarabira\n",
      "Adding Guarabira loss to general loss dataframe\n",
      "Saving Guarabira sales loss\n",
      "(32/55)\n",
      "Getting sales loss of Cabedelo\n",
      "Adding Cabedelo loss to general loss dataframe\n",
      "Saving Cabedelo sales loss\n",
      "(33/55)\n",
      "Getting sales loss of Alagoa Grande\n",
      "Adding Alagoa Grande loss to general loss dataframe\n",
      "Saving Alagoa Grande sales loss\n",
      "(34/55)\n",
      "Getting sales loss of AREIA\n",
      "Adding AREIA loss to general loss dataframe\n",
      "Saving AREIA sales loss\n",
      "(35/55)\n",
      "Getting sales loss of Bancarios\n",
      "Adding Bancarios loss to general loss dataframe\n",
      "Saving Bancarios sales loss\n",
      "(36/55)\n",
      "Getting sales loss of Sousa II\n",
      "Adding Sousa II loss to general loss dataframe\n",
      "Saving Sousa II sales loss\n",
      "(37/55)\n",
      "Getting sales loss of Barao\n",
      "Adding Barao loss to general loss dataframe\n",
      "Saving Barao sales loss\n",
      "(38/55)\n",
      "Getting sales loss of Soledade\n",
      "Adding Soledade loss to general loss dataframe\n",
      "Saving Soledade sales loss\n",
      "(39/55)\n",
      "Getting sales loss of Guarabira II\n",
      "Adding Guarabira II loss to general loss dataframe\n",
      "Saving Guarabira II sales loss\n",
      "(40/55)\n",
      "Getting sales loss of Goiana 2\n",
      "Adding Goiana 2 loss to general loss dataframe\n",
      "Saving Goiana 2 sales loss\n",
      "(41/55)\n",
      "Getting sales loss of Geisel\n",
      "Adding Geisel loss to general loss dataframe\n",
      "Saving Geisel sales loss\n",
      "(42/55)\n",
      "Getting sales loss of Picui\n",
      "Adding Picui loss to general loss dataframe\n",
      "Saving Picui sales loss\n",
      "(43/55)\n",
      "Getting sales loss of Alhandra\n",
      "Adding Alhandra loss to general loss dataframe\n",
      "Saving Alhandra sales loss\n",
      "(44/55)\n",
      "Getting sales loss of Itabaiana\n",
      "Adding Itabaiana loss to general loss dataframe\n",
      "Saving Itabaiana sales loss\n",
      "(45/55)\n",
      "Getting sales loss of Lagoa Seca\n",
      "Adding Lagoa Seca loss to general loss dataframe\n",
      "Saving Lagoa Seca sales loss\n",
      "(46/55)\n",
      "Getting sales loss of Campina Grande IV\n",
      "Adding Campina Grande IV loss to general loss dataframe\n",
      "Saving Campina Grande IV sales loss\n",
      "(47/55)\n",
      "Getting sales loss of Monteiro\n",
      "Adding Monteiro loss to general loss dataframe\n",
      "Saving Monteiro sales loss\n",
      "(48/55)\n",
      "Getting sales loss of Patos III\n",
      "Adding Patos III loss to general loss dataframe\n",
      "Saving Patos III sales loss\n",
      "(49/55)\n",
      "Getting sales loss of Pianco\n",
      "Adding Pianco loss to general loss dataframe\n",
      "Saving Pianco sales loss\n",
      "(50/55)\n",
      "Getting sales loss of Sto. Elias\n",
      "Adding Sto. Elias loss to general loss dataframe\n",
      "Saving Sto. Elias sales loss\n",
      "(51/55)\n",
      "Getting sales loss of Monteiro 2\n",
      "Adding Monteiro 2 loss to general loss dataframe\n",
      "Saving Monteiro 2 sales loss\n",
      "(52/55)\n",
      "Getting sales loss of Caruaru\n",
      "Adding Caruaru loss to general loss dataframe\n",
      "Saving Caruaru sales loss\n",
      "(53/55)\n",
      "Getting sales loss of Manaira\n",
      "Adding Manaira loss to general loss dataframe\n",
      "Saving Manaira sales loss\n",
      "(54/55)\n",
      "Getting sales loss of CABEDELO BR\n",
      "Adding CABEDELO BR loss to general loss dataframe\n",
      "Saving CABEDELO BR sales loss\n",
      "(55/55)\n",
      "Getting sales loss of Patos IV\n",
      "Adding Patos IV loss to general loss dataframe\n",
      "Saving Patos IV sales loss\n"
     ]
    }
   ],
   "source": [
    "i = 0\n",
    "for store in stores:\n",
    "    i += 1\n",
    "    \n",
    "    print('(%d/%d)' % (i, len(stores)))\n",
    "    print('Getting sales loss of %s' % (store))\n",
    "    loss = get_sales_loss(store)\n",
    "    \n",
    "    print('Adding %s loss to general loss dataframe' % (store))\n",
    "    for product in all_loss.columns:\n",
    "        all_loss[product] += loss[product]\n",
    "    \n",
    "    print('Saving %s sales loss' % (store))\n",
    "    #loss.to_csv('storage_data/loss/' + store + '.csv')\n",
    "    loss.to_csv('/content/drive/MyDrive/Saldos Processados/Ruptura/' + store + '.csv')"
   ]
  },
  {
   "cell_type": "code",
   "execution_count": 29,
   "id": "painful-teens",
   "metadata": {
    "colab": {
     "base_uri": "https://localhost:8080/",
     "height": 294
    },
    "executionInfo": {
     "elapsed": 1242,
     "status": "ok",
     "timestamp": 1631310687325,
     "user": {
      "displayName": "David Galvao",
      "photoUrl": "https://lh3.googleusercontent.com/a/default-user=s64",
      "userId": "00430482932793032747"
     },
     "user_tz": 180
    },
    "id": "painful-teens",
    "outputId": "712a4a6e-49bb-430f-b7fd-353990bbf156"
   },
   "outputs": [
    {
     "data": {
      "text/plain": [
       "<matplotlib.axes._subplots.AxesSubplot at 0x7f2685a6ee10>"
      ]
     },
     "execution_count": 29,
     "metadata": {},
     "output_type": "execute_result"
    },
    {
     "data": {
      "image/png": "[encoded data removed]",
      "text/plain": [
       "<Figure size 432x288 with 1 Axes>"
      ]
     },
     "metadata": {
      "needs_background": "light"
     },
     "output_type": "display_data"
    }
   ],
   "source": [
    "loss['REFRIGERADOR ROC 31 BR'].plot()\n",
    "sales_df['REFRIGERADOR ROC 31 BR'].plot()"
   ]
  },
  {
   "cell_type": "code",
   "execution_count": 30,
   "id": "p54gHkAyiJO3",
   "metadata": {
    "colab": {
     "base_uri": "https://localhost:8080/",
     "height": 294
    },
    "executionInfo": {
     "elapsed": 1007,
     "status": "ok",
     "timestamp": 1631310719740,
     "user": {
      "displayName": "David Galvao",
      "photoUrl": "https://lh3.googleusercontent.com/a/default-user=s64",
      "userId": "00430482932793032747"
     },
     "user_tz": 180
    },
    "id": "p54gHkAyiJO3",
    "outputId": "bbb64633-f6a2-4b7a-e8cf-391b01c16499"
   },
   "outputs": [
    {
     "data": {
      "text/plain": [
       "<matplotlib.axes._subplots.AxesSubplot at 0x7f26846ab610>"
      ]
     },
     "execution_count": 30,
     "metadata": {},
     "output_type": "execute_result"
    },
    {
     "data": {
      "image/png": "[encoded data removed]",
      "text/plain": [
       "<Figure size 432x288 with 1 Axes>"
      ]
     },
     "metadata": {
      "needs_background": "light"
     },
     "output_type": "display_data"
    }
   ],
   "source": [
    "all_loss.to_csv('/content/drive/MyDrive/Saldos Processados/Ruptura/' + store + '.csv')"
   ]
  },
  {
   "cell_type": "code",
   "execution_count": 6,
   "id": "constant-painting",
   "metadata": {},
   "outputs": [],
   "source": [
    "categories = json.load(open('subcategorias.json'))\n",
    "loss = pd.read_csv('ruptura_geral.csv', index_col=0)\n",
    "loss.index = pd.to_datetime(loss.index)\n",
    "\n",
    "loss['GERAL'] = loss.sum(axis=1)\n",
    "for category in categories:\n",
    "    loss[category] = loss[categories[category]].sum(axis=1)\n",
    "\n",
    "loss.to_csv('ruptura_geral.csv')"
   ]
  }
 ],
 "metadata": {
  "colab": {
   "name": "Ruptura.ipynb",
   "provenance": []
  },
  "kernelspec": {
   "display_name": "Python 3",
   "language": "python",
   "name": "python3"
  },
  "language_info": {
   "codemirror_mode": {
    "name": "ipython",
    "version": 3
   },
   "file_extension": ".py",
   "mimetype": "text/x-python",
   "name": "python",
   "nbconvert_exporter": "python",
   "pygments_lexer": "ipython3",
   "version": "3.8.2"
  }
 },
 "nbformat": 4,
 "nbformat_minor": 5
}
