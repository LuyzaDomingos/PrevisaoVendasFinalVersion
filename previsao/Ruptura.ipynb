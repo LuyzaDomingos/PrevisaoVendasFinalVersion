{
 "cells": [
  {
   "cell_type": "markdown",
   "id": "behind-proposition",
   "metadata": {},
   "source": [
    "# Ruptura"
   ]
  },
  {
   "cell_type": "code",
   "execution_count": null,
   "id": "pressing-burning",
   "metadata": {},
   "outputs": [],
   "source": [
    "import pandas as pd\n",
    "import numpy as np\n",
    "import json\n",
    "from datetime import timedelta\n",
    "\n",
    "def read_data(store_name):\n",
    "    try:\n",
    "        stock_df = pd.read_csv('storage_data/' + store_name + '.csv', index_col=0)\n",
    "        sales_df = pd.read_csv('data/' + store_name + '.csv', index_col=0)\n",
    "\n",
    "        stock_df.index = pd.to_datetime(stock_df.index)\n",
    "        sales_df.index = pd.to_datetime(sales_df.index)\n",
    "    \n",
    "        return stock_df, sales_df\n",
    "    except:\n",
    "        print('Error while opening %s data' % (store_name))\n",
    "        return None, None"
   ]
  },
  {
   "cell_type": "code",
   "execution_count": null,
   "id": "aggregate-instrument",
   "metadata": {},
   "outputs": [],
   "source": [
    "def set_nan_values(stock_df):  \n",
    "    # Considera-se como uma data em que não há contagem a data onde o estoque de todos os produtos é 0\n",
    "    stock_df[stock_df.index.day_of_week == 6] = np.nan # Não há contagem no domingo\n",
    "    stock_df[stock_df.sum(axis=1) == 0] = np.nan # Pegar as outras datas em que não houveram contagem\n",
    "    # Desconsiderar as datas em que não possuimos dados\n",
    "    first_date_w_data = stock_df[stock_df.sum(axis=1) > 0].index[0]\n",
    "    stock_df[:first_date_w_data] = 0 \n",
    "    \n",
    "    return stock_df"
   ]
  },
  {
   "cell_type": "code",
   "execution_count": null,
   "id": "agricultural-exclusive",
   "metadata": {},
   "outputs": [],
   "source": [
    "def get_missing_dates(stock_df):\n",
    "    na_rows = stock_df.isna().any(axis=1)\n",
    "    missing_dates = na_rows[na_rows == True].index\n",
    "    \n",
    "    return missing_dates"
   ]
  },
  {
   "cell_type": "code",
   "execution_count": null,
   "id": "through-closer",
   "metadata": {},
   "outputs": [],
   "source": [
    "def fix_stock(stock_df, sales_df):\n",
    "    stock_df = set_nan_values(stock_df)\n",
    "    missing_dates = get_missing_dates(stock_df)\n",
    "    \n",
    "    for date in missing_dates:\n",
    "        stock_df.loc[date - timedelta(days=1) : date] = stock_df.loc[date - timedelta(days=1) : date].fillna(method='ffill')\n",
    "        stock_df.loc[date] -= sales_df.loc[date - timedelta(days=1)]\n",
    "    \n",
    "    # Corrigir estoque negativo\n",
    "    return stock_df.applymap(lambda x : x if x > 0 else 0)"
   ]
  },
  {
   "cell_type": "code",
   "execution_count": null,
   "id": "postal-process",
   "metadata": {
    "scrolled": true
   },
   "outputs": [],
   "source": [
    "stores = ['Ico', 'Jacobina', 'Lagoa', 'Campina Grande I', 'Bayeux',\n",
    "       'Esperanca', 'Irece I', 'Mangabeira Shopping', 'Patos I', 'Matriz',\n",
    "       'Patos II', 'Campina Grande III', 'Itambe', 'Campina Grande II',\n",
    "       'Mangabeira', 'Aristides Lobo', 'Sape', 'Sta. Rita', 'Iguatu',\n",
    "       'Pombal', 'Itaporanga', 'Mamanguape', 'Sousa I', 'Timbauba',\n",
    "       'Joao Dourado', 'Goiana', 'Cuite', 'Queimadas', 'Irece II',\n",
    "       'Solanea', 'Guarabira', 'Cabedelo', 'Alagoa Grande', 'AREIA',\n",
    "       'Bancarios', 'Sousa II', 'Barao', 'Soledade', 'Guarabira II',\n",
    "       'Goiana 2', 'Geisel', 'Picui', 'Alhandra', 'Itabaiana',\n",
    "       'Lagoa Seca', 'Campina Grande IV', 'Monteiro', 'Patos III',\n",
    "       'Pianco', 'Sto. Elias', 'Monteiro 2', 'Caruaru',\n",
    "       'Manaira', 'CABEDELO BR', 'Patos IV']\n",
    "\n",
    "i = 0\n",
    "for store in stores:\n",
    "    i += 1\n",
    "    print('(%d/%d)' % (i, len(stores)))\n",
    "    print('Reading %s data' % (store))\n",
    "    stock_df, sales_df = read_data(store)\n",
    "    before = stock_df.sum(axis=1)\n",
    "    print('Fixing %s data' % (store))\n",
    "    stock_df = fix_stock(stock_df, sales_df)\n",
    "    print('Saving fixed %s data' % (store))\n",
    "    stock_df.to_csv('storage_data/' + store + '.csv')"
   ]
  },
  {
   "cell_type": "code",
   "execution_count": null,
   "id": "extra-footage",
   "metadata": {},
   "outputs": [],
   "source": []
  }
 ],
 "metadata": {
  "kernelspec": {
   "display_name": "Python 3",
   "language": "python",
   "name": "python3"
  },
  "language_info": {
   "codemirror_mode": {
    "name": "ipython",
    "version": 3
   },
   "file_extension": ".py",
   "mimetype": "text/x-python",
   "name": "python",
   "nbconvert_exporter": "python",
   "pygments_lexer": "ipython3",
   "version": "3.8.2"
  }
 },
 "nbformat": 4,
 "nbformat_minor": 5
}
